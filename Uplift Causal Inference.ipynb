{
 "cells": [
  {
   "cell_type": "markdown",
   "id": "fbfdef31",
   "metadata": {},
   "source": [
    "## Background"
   ]
  },
  {
   "cell_type": "markdown",
   "id": "7a0e9f40",
   "metadata": {},
   "source": [
    "### Problem Description"
   ]
  },
  {
   "cell_type": "markdown",
   "id": "d63344c5",
   "metadata": {},
   "source": [
    "An e commerce company just established. The company wants to grow their user base ? Why its important"
   ]
  },
  {
   "cell_type": "markdown",
   "id": "f48756b6",
   "metadata": {},
   "source": [
    "<img src=\"https://baselarea.swiss//wp-content/uploads/2023/07/BaselArea_Startup-Stages-scaled.jpg\" >\n",
    "<center> <a href=\"https://baselarea.swiss//wp-content/uploads/2023/07/BaselArea_Startup-Stages-scaled.jpg\"> Source </a>"
   ]
  },
  {
   "cell_type": "markdown",
   "id": "424ec6af",
   "metadata": {},
   "source": [
    "The company is in stage 4 to scale to a bigger market. Of course expannding user base require effort. We cannot wait for the miracle to come up "
   ]
  },
  {
   "cell_type": "markdown",
   "id": "f0e8b6ff",
   "metadata": {},
   "source": [
    "How can we grow user ? To grow user base we can divide into two types \n",
    "1. Organic Growth \n",
    "2. Non Organic Growth \n",
    "\n",
    "So what is the different between both"
   ]
  },
  {
   "cell_type": "markdown",
   "id": "fb92daec",
   "metadata": {},
   "source": [
    "**Organic Growth** refer to condition where user willingfully to use our product without any intervention. That could happen because of the quality of our product offered and many more"
   ]
  },
  {
   "cell_type": "markdown",
   "id": "02c92dca",
   "metadata": {},
   "source": [
    "The first type is quite rare, and taking some times.. What we can do about it ? "
   ]
  },
  {
   "cell_type": "markdown",
   "id": "f3607757",
   "metadata": {},
   "source": [
    "We can intervene user growth through some **intervention**. So that is the idea of Non Organic Growth "
   ]
  },
  {
   "cell_type": "markdown",
   "id": "3922acbc",
   "metadata": {},
   "source": [
    "Why we need to intervene, its because :  \n",
    "- User might not know yet our product (exposure)\n",
    "- User finding difficulties in finding value proposition in our product "
   ]
  },
  {
   "cell_type": "markdown",
   "id": "e427d9f5",
   "metadata": {},
   "source": [
    "So what kind of intervention we need to do ?"
   ]
  },
  {
   "cell_type": "markdown",
   "id": "30ac4075",
   "metadata": {},
   "source": [
    "1. **Educating your potential customer all about your product**\n",
    "\n",
    "This could be done through detailed explanation of your product and why they should use your product"
   ]
  },
  {
   "cell_type": "markdown",
   "id": "da83e54c",
   "metadata": {},
   "source": [
    "2. **Offer Incentive to potential customer**\n",
    "\n",
    "The next one is more attractive since customer, can receive trial / free product hence they will have a quick impression of the product, if the product is good the more likely they will convert / buy again"
   ]
  },
  {
   "cell_type": "markdown",
   "id": "be9438f9",
   "metadata": {},
   "source": [
    "Our product has been crafted carefully, and our social media team already performed maximum, we will try the second approach by offering incentive to potential customer"
   ]
  },
  {
   "cell_type": "markdown",
   "id": "19de681f",
   "metadata": {},
   "source": [
    "Now, the question who sould we give incentive ? \n"
   ]
  },
  {
   "cell_type": "markdown",
   "id": "e7a8b008",
   "metadata": {},
   "source": [
    "<img src=\"https://img.freepik.com/premium-vector/targeted-advertisement-campaign-promotional-announcement-customers-attraction-promo_566886-3547.jpg?w=2000\" width=600 height=600>\n",
    "<center><a href=\"https://img.freepik.com/premium-vector/targeted-advertisement-campaign-promotional-announcement-customers-attraction-promo_566886-3547.jpg?w=2000\">Source </a></center>"
   ]
  },
  {
   "cell_type": "markdown",
   "id": "625ab263",
   "metadata": {},
   "source": [
    "Our goal : \n",
    "1. Target somebody whose likely to continue purchase our product after getting incentive"
   ]
  },
  {
   "cell_type": "markdown",
   "id": "6dfe6c1b",
   "metadata": {},
   "source": [
    "We know that individual / user may react differently to incentive, we can summary their behaviour using matrix"
   ]
  },
  {
   "cell_type": "markdown",
   "id": "879ecf7a",
   "metadata": {},
   "source": [
    "<center><b>Treatment and Conversion Matrix</b></center>\n",
    "<img src=\"https://drive.google.com/uc?id=1qJfG5X7JyC01SKq_p1q3ZVvhzpARZgVQ\" width=600 height=600>\n",
    "<center><b>Source : Author</b></center>"
   ]
  },
  {
   "cell_type": "markdown",
   "id": "f60cda98",
   "metadata": {},
   "source": [
    "How can we know given a treatment user will convert ? "
   ]
  },
  {
   "cell_type": "markdown",
   "id": "e3710d66",
   "metadata": {},
   "source": [
    "This is study of causal inference"
   ]
  },
  {
   "cell_type": "markdown",
   "id": "949d110e",
   "metadata": {},
   "source": [
    "Most of causal inference method usually take care of **Average Treatment Effect** or how the average effect when people receive a treatment to outcome variable, some methods are available such as : \n",
    "- Backdoor Approach : \n",
    "\n",
    "    1. Matching \n",
    "    2. Fixed Effect\n",
    "    3. Difference in Difference (DiD)\n",
    "- Frontdoor Approaach : \n",
    "    1. Regression Discontinuity Design \n",
    "    2. Instrumental Variable"
   ]
  },
  {
   "cell_type": "markdown",
   "id": "7df498ec",
   "metadata": {},
   "source": [
    "Can we use those method for our case ? \n",
    "**Unfortunately** no. Its because we are interested in individual (heterogenous) effect or sometimes called as **Conditional Treatment Effect (CATE)** "
   ]
  },
  {
   "cell_type": "markdown",
   "id": "4a8b6155",
   "metadata": {},
   "source": [
    "### Business Objective"
   ]
  },
  {
   "cell_type": "markdown",
   "id": "9cc323c1",
   "metadata": {},
   "source": [
    "Our business problem is to expand base user or user acquisition.\n",
    "Our current approach is to give treatment in terms of incentive to measure whether our treatment is success we would like to measure how many user are converted given treatment they receive. Hence, our business metrics is **Conversion Rate**"
   ]
  },
  {
   "cell_type": "markdown",
   "id": "b3f4b5ff",
   "metadata": {},
   "source": [
    "$\\text{Conversion Rate} = \\cfrac{\\text{Number of user who receive treatment and Converted}} {\\text{Number of user who get treatement} }$"
   ]
  },
  {
   "cell_type": "markdown",
   "id": "240401dd",
   "metadata": {},
   "source": [
    "**Metrics Context** \n",
    "\n",
    "The higher the conversion rate is better. "
   ]
  },
  {
   "cell_type": "markdown",
   "id": "f5c7afd3",
   "metadata": {},
   "source": [
    "<img src=\"https://www.ruleranalytics.com/wp-content/uploads/average-industry-conversion-rate-ruler-analytics-1024x536.png\" height=500 width=600 >\n",
    "<center><a href=\"https://www.ruleranalytics.com/wp-content/uploads/average-industry-conversion-rate-ruler-analytics-1024x536.png\" >Source</a></center>"
   ]
  },
  {
   "cell_type": "markdown",
   "id": "8b262756",
   "metadata": {},
   "source": [
    "### Solution"
   ]
  },
  {
   "cell_type": "markdown",
   "id": "229bb84a",
   "metadata": {},
   "source": [
    "To find customer who eligible to receive incentive we can , predict uplift score of user who receive treatment, of course predicting uplift score is not the end. \n",
    "\n",
    "After prediction we need a **policy** what we should do? \n",
    "All observation in previous experiment does have uplift value, but which percentile of uplift score  we are going to select as treatment eligible customer is important"
   ]
  },
  {
   "cell_type": "markdown",
   "id": "6523d273",
   "metadata": {},
   "source": [
    "<a href=\"https://imgflip.com/i/7ymh21\"><img src=\"https://i.imgflip.com/7ymh21.jpg\" title=\"made at imgflip.com\"/></a><div><a href=\"https://imgflip.com/memegenerator\">from Imgflip Meme Generator</a></div>"
   ]
  },
  {
   "cell_type": "markdown",
   "id": "fd3b0569",
   "metadata": {},
   "source": [
    "### Model Metrics"
   ]
  },
  {
   "cell_type": "markdown",
   "id": "3849d70c",
   "metadata": {},
   "source": [
    "Some available metrics :\n",
    "- Area Under the Curve of Uplift \n",
    "- Area Under the Curve of Gain \n",
    "- Area Under the Curve of Qini\n",
    "\n",
    "\n",
    "For now we will use Uplift"
   ]
  },
  {
   "cell_type": "markdown",
   "id": "e0f517d1",
   "metadata": {},
   "source": [
    "###  Data Description\n",
    "\n"
   ]
  },
  {
   "cell_type": "markdown",
   "id": "fd754c50",
   "metadata": {},
   "source": [
    "- recency\n",
    "\n",
    "months since last purchase\n",
    "\n",
    "- history\n",
    "\n",
    "value of the historical purchases\n",
    "\n",
    "- used_discount\n",
    "\n",
    "indicates if the customer used a discount before\n",
    "\n",
    "- used_bogo\n",
    "\n",
    "indicates if the customer used a buy one get one before\n",
    "\n",
    "- zip_code\n",
    "\n",
    "class of the zip code as Suburban/Urban/Rural\n",
    "\n",
    "- is_referral\n",
    "\n",
    "indicates if the customer was acquired from referral channel\n",
    "\n",
    "- channel\n",
    "\n",
    "channels that the customer using, Phone/Web/Multichannel\n",
    "\n",
    "- offer\n",
    "\n",
    "the offers sent to the customers, Discount/But One Get One/No Offer\n",
    "\n",
    "- conversion\n",
    "\n",
    "customer conversion(buy or no)"
   ]
  },
  {
   "cell_type": "markdown",
   "id": "23381a48",
   "metadata": {
    "heading_collapsed": true
   },
   "source": [
    "## Workflow"
   ]
  },
  {
   "cell_type": "markdown",
   "id": "acf6df40",
   "metadata": {},
   "source": [
    "## 1. Data Preparation"
   ]
  },
  {
   "cell_type": "markdown",
   "id": "90f857ea",
   "metadata": {},
   "source": [
    "### Load Data"
   ]
  },
  {
   "cell_type": "code",
   "execution_count": 187,
   "id": "15ad0cd9",
   "metadata": {},
   "outputs": [],
   "source": [
    "import pandas as pd \n",
    "import numpy as np "
   ]
  },
  {
   "cell_type": "code",
   "execution_count": 188,
   "id": "391ca7be",
   "metadata": {},
   "outputs": [],
   "source": [
    "data_path = 'data.csv'"
   ]
  },
  {
   "cell_type": "code",
   "execution_count": 189,
   "id": "6ee66ab3",
   "metadata": {},
   "outputs": [
    {
     "data": {
      "text/html": [
       "<div>\n",
       "<style scoped>\n",
       "    .dataframe tbody tr th:only-of-type {\n",
       "        vertical-align: middle;\n",
       "    }\n",
       "\n",
       "    .dataframe tbody tr th {\n",
       "        vertical-align: top;\n",
       "    }\n",
       "\n",
       "    .dataframe thead th {\n",
       "        text-align: right;\n",
       "    }\n",
       "</style>\n",
       "<table border=\"1\" class=\"dataframe\">\n",
       "  <thead>\n",
       "    <tr style=\"text-align: right;\">\n",
       "      <th></th>\n",
       "      <th>recency</th>\n",
       "      <th>history</th>\n",
       "      <th>used_discount</th>\n",
       "      <th>used_bogo</th>\n",
       "      <th>zip_code</th>\n",
       "      <th>is_referral</th>\n",
       "      <th>channel</th>\n",
       "      <th>offer</th>\n",
       "      <th>conversion</th>\n",
       "    </tr>\n",
       "  </thead>\n",
       "  <tbody>\n",
       "    <tr>\n",
       "      <th>0</th>\n",
       "      <td>10</td>\n",
       "      <td>142.44</td>\n",
       "      <td>1</td>\n",
       "      <td>0</td>\n",
       "      <td>Surburban</td>\n",
       "      <td>0</td>\n",
       "      <td>Phone</td>\n",
       "      <td>Buy One Get One</td>\n",
       "      <td>0</td>\n",
       "    </tr>\n",
       "    <tr>\n",
       "      <th>1</th>\n",
       "      <td>6</td>\n",
       "      <td>329.08</td>\n",
       "      <td>1</td>\n",
       "      <td>1</td>\n",
       "      <td>Rural</td>\n",
       "      <td>1</td>\n",
       "      <td>Web</td>\n",
       "      <td>No Offer</td>\n",
       "      <td>0</td>\n",
       "    </tr>\n",
       "    <tr>\n",
       "      <th>2</th>\n",
       "      <td>7</td>\n",
       "      <td>180.65</td>\n",
       "      <td>0</td>\n",
       "      <td>1</td>\n",
       "      <td>Surburban</td>\n",
       "      <td>1</td>\n",
       "      <td>Web</td>\n",
       "      <td>Buy One Get One</td>\n",
       "      <td>0</td>\n",
       "    </tr>\n",
       "    <tr>\n",
       "      <th>3</th>\n",
       "      <td>9</td>\n",
       "      <td>675.83</td>\n",
       "      <td>1</td>\n",
       "      <td>0</td>\n",
       "      <td>Rural</td>\n",
       "      <td>1</td>\n",
       "      <td>Web</td>\n",
       "      <td>Discount</td>\n",
       "      <td>0</td>\n",
       "    </tr>\n",
       "    <tr>\n",
       "      <th>4</th>\n",
       "      <td>2</td>\n",
       "      <td>45.34</td>\n",
       "      <td>1</td>\n",
       "      <td>0</td>\n",
       "      <td>Urban</td>\n",
       "      <td>0</td>\n",
       "      <td>Web</td>\n",
       "      <td>Buy One Get One</td>\n",
       "      <td>0</td>\n",
       "    </tr>\n",
       "  </tbody>\n",
       "</table>\n",
       "</div>"
      ],
      "text/plain": [
       "   recency  history  used_discount  used_bogo   zip_code  is_referral channel  \\\n",
       "0       10   142.44              1          0  Surburban            0   Phone   \n",
       "1        6   329.08              1          1      Rural            1     Web   \n",
       "2        7   180.65              0          1  Surburban            1     Web   \n",
       "3        9   675.83              1          0      Rural            1     Web   \n",
       "4        2    45.34              1          0      Urban            0     Web   \n",
       "\n",
       "             offer  conversion  \n",
       "0  Buy One Get One           0  \n",
       "1         No Offer           0  \n",
       "2  Buy One Get One           0  \n",
       "3         Discount           0  \n",
       "4  Buy One Get One           0  "
      ]
     },
     "execution_count": 189,
     "metadata": {},
     "output_type": "execute_result"
    }
   ],
   "source": [
    "# read data \n",
    "treatment_data = pd.read_csv(data_path)\n",
    "treatment_data.head()"
   ]
  },
  {
   "cell_type": "code",
   "execution_count": 190,
   "id": "f3c444ce",
   "metadata": {},
   "outputs": [
    {
     "data": {
      "text/plain": [
       "Index(['recency', 'history', 'used_discount', 'used_bogo', 'zip_code',\n",
       "       'is_referral', 'channel', 'offer', 'conversion'],\n",
       "      dtype='object')"
      ]
     },
     "execution_count": 190,
     "metadata": {},
     "output_type": "execute_result"
    }
   ],
   "source": [
    "treatment_data.columns"
   ]
  },
  {
   "cell_type": "markdown",
   "id": "cdbe0a33",
   "metadata": {},
   "source": [
    "### Check data shapes & types"
   ]
  },
  {
   "cell_type": "code",
   "execution_count": 191,
   "id": "cbddd94b",
   "metadata": {},
   "outputs": [
    {
     "data": {
      "text/plain": [
       "(64000, 9)"
      ]
     },
     "execution_count": 191,
     "metadata": {},
     "output_type": "execute_result"
    }
   ],
   "source": [
    "### Check Shape \n",
    "treatment_data.shape"
   ]
  },
  {
   "cell_type": "code",
   "execution_count": 192,
   "id": "094e8000",
   "metadata": {},
   "outputs": [
    {
     "data": {
      "text/plain": [
       "recency            int64\n",
       "history          float64\n",
       "used_discount      int64\n",
       "used_bogo          int64\n",
       "zip_code          object\n",
       "is_referral        int64\n",
       "channel           object\n",
       "offer             object\n",
       "conversion         int64\n",
       "dtype: object"
      ]
     },
     "execution_count": 192,
     "metadata": {},
     "output_type": "execute_result"
    }
   ],
   "source": [
    "treatment_data.dtypes"
   ]
  },
  {
   "cell_type": "markdown",
   "id": "72a3d2ac",
   "metadata": {},
   "source": [
    "we can see that our variable match our data type"
   ]
  },
  {
   "cell_type": "markdown",
   "id": "f52e6592",
   "metadata": {},
   "source": [
    "## Data Preprocessing"
   ]
  },
  {
   "cell_type": "markdown",
   "id": "1d48aee7",
   "metadata": {},
   "source": [
    "### Label Encoding"
   ]
  },
  {
   "cell_type": "code",
   "execution_count": 193,
   "id": "2c6117e8",
   "metadata": {},
   "outputs": [
    {
     "data": {
      "text/plain": [
       "array(['Phone', 'Web', 'Multichannel'], dtype=object)"
      ]
     },
     "execution_count": 193,
     "metadata": {},
     "output_type": "execute_result"
    }
   ],
   "source": [
    "# channel \n",
    "treatment_data['channel'].unique()"
   ]
  },
  {
   "cell_type": "code",
   "execution_count": 194,
   "id": "4e9a1851",
   "metadata": {},
   "outputs": [
    {
     "data": {
      "text/plain": [
       "array(['Buy One Get One', 'No Offer', 'Discount'], dtype=object)"
      ]
     },
     "execution_count": 194,
     "metadata": {},
     "output_type": "execute_result"
    }
   ],
   "source": [
    "# offer \n",
    "treatment_data['offer'].unique()"
   ]
  },
  {
   "cell_type": "code",
   "execution_count": 195,
   "id": "e1261a0b",
   "metadata": {},
   "outputs": [],
   "source": [
    "treatment_data = treatment_data.loc[treatment_data['offer'].isin(['Buy One Get One', 'No Offer'])]"
   ]
  },
  {
   "cell_type": "code",
   "execution_count": 196,
   "id": "5cb8c2a8",
   "metadata": {},
   "outputs": [],
   "source": [
    "treatment_data['treatment'] = treatment_data['offer'].map({\n",
    "    'Buy One Get One':1, 'No Offer':0, 'Discount':1\n",
    "})"
   ]
  },
  {
   "cell_type": "code",
   "execution_count": 197,
   "id": "cde6c674",
   "metadata": {},
   "outputs": [],
   "source": [
    "treatment_encoded = pd.get_dummies(treatment_data.drop(['offer'],axis=1))"
   ]
  },
  {
   "cell_type": "code",
   "execution_count": 198,
   "id": "c789f325",
   "metadata": {},
   "outputs": [
    {
     "data": {
      "text/html": [
       "<div>\n",
       "<style scoped>\n",
       "    .dataframe tbody tr th:only-of-type {\n",
       "        vertical-align: middle;\n",
       "    }\n",
       "\n",
       "    .dataframe tbody tr th {\n",
       "        vertical-align: top;\n",
       "    }\n",
       "\n",
       "    .dataframe thead th {\n",
       "        text-align: right;\n",
       "    }\n",
       "</style>\n",
       "<table border=\"1\" class=\"dataframe\">\n",
       "  <thead>\n",
       "    <tr style=\"text-align: right;\">\n",
       "      <th></th>\n",
       "      <th>recency</th>\n",
       "      <th>history</th>\n",
       "      <th>used_discount</th>\n",
       "      <th>used_bogo</th>\n",
       "      <th>is_referral</th>\n",
       "      <th>conversion</th>\n",
       "      <th>treatment</th>\n",
       "      <th>zip_code_Rural</th>\n",
       "      <th>zip_code_Surburban</th>\n",
       "      <th>zip_code_Urban</th>\n",
       "      <th>channel_Multichannel</th>\n",
       "      <th>channel_Phone</th>\n",
       "      <th>channel_Web</th>\n",
       "    </tr>\n",
       "  </thead>\n",
       "  <tbody>\n",
       "    <tr>\n",
       "      <th>0</th>\n",
       "      <td>10</td>\n",
       "      <td>142.44</td>\n",
       "      <td>1</td>\n",
       "      <td>0</td>\n",
       "      <td>0</td>\n",
       "      <td>0</td>\n",
       "      <td>1</td>\n",
       "      <td>0</td>\n",
       "      <td>1</td>\n",
       "      <td>0</td>\n",
       "      <td>0</td>\n",
       "      <td>1</td>\n",
       "      <td>0</td>\n",
       "    </tr>\n",
       "    <tr>\n",
       "      <th>1</th>\n",
       "      <td>6</td>\n",
       "      <td>329.08</td>\n",
       "      <td>1</td>\n",
       "      <td>1</td>\n",
       "      <td>1</td>\n",
       "      <td>0</td>\n",
       "      <td>0</td>\n",
       "      <td>1</td>\n",
       "      <td>0</td>\n",
       "      <td>0</td>\n",
       "      <td>0</td>\n",
       "      <td>0</td>\n",
       "      <td>1</td>\n",
       "    </tr>\n",
       "    <tr>\n",
       "      <th>2</th>\n",
       "      <td>7</td>\n",
       "      <td>180.65</td>\n",
       "      <td>0</td>\n",
       "      <td>1</td>\n",
       "      <td>1</td>\n",
       "      <td>0</td>\n",
       "      <td>1</td>\n",
       "      <td>0</td>\n",
       "      <td>1</td>\n",
       "      <td>0</td>\n",
       "      <td>0</td>\n",
       "      <td>0</td>\n",
       "      <td>1</td>\n",
       "    </tr>\n",
       "    <tr>\n",
       "      <th>4</th>\n",
       "      <td>2</td>\n",
       "      <td>45.34</td>\n",
       "      <td>1</td>\n",
       "      <td>0</td>\n",
       "      <td>0</td>\n",
       "      <td>0</td>\n",
       "      <td>1</td>\n",
       "      <td>0</td>\n",
       "      <td>0</td>\n",
       "      <td>1</td>\n",
       "      <td>0</td>\n",
       "      <td>0</td>\n",
       "      <td>1</td>\n",
       "    </tr>\n",
       "    <tr>\n",
       "      <th>5</th>\n",
       "      <td>6</td>\n",
       "      <td>134.83</td>\n",
       "      <td>0</td>\n",
       "      <td>1</td>\n",
       "      <td>0</td>\n",
       "      <td>1</td>\n",
       "      <td>1</td>\n",
       "      <td>0</td>\n",
       "      <td>1</td>\n",
       "      <td>0</td>\n",
       "      <td>0</td>\n",
       "      <td>1</td>\n",
       "      <td>0</td>\n",
       "    </tr>\n",
       "    <tr>\n",
       "      <th>...</th>\n",
       "      <td>...</td>\n",
       "      <td>...</td>\n",
       "      <td>...</td>\n",
       "      <td>...</td>\n",
       "      <td>...</td>\n",
       "      <td>...</td>\n",
       "      <td>...</td>\n",
       "      <td>...</td>\n",
       "      <td>...</td>\n",
       "      <td>...</td>\n",
       "      <td>...</td>\n",
       "      <td>...</td>\n",
       "      <td>...</td>\n",
       "    </tr>\n",
       "    <tr>\n",
       "      <th>63989</th>\n",
       "      <td>10</td>\n",
       "      <td>304.30</td>\n",
       "      <td>1</td>\n",
       "      <td>1</td>\n",
       "      <td>0</td>\n",
       "      <td>1</td>\n",
       "      <td>1</td>\n",
       "      <td>0</td>\n",
       "      <td>1</td>\n",
       "      <td>0</td>\n",
       "      <td>0</td>\n",
       "      <td>0</td>\n",
       "      <td>1</td>\n",
       "    </tr>\n",
       "    <tr>\n",
       "      <th>63990</th>\n",
       "      <td>6</td>\n",
       "      <td>80.02</td>\n",
       "      <td>0</td>\n",
       "      <td>1</td>\n",
       "      <td>0</td>\n",
       "      <td>0</td>\n",
       "      <td>0</td>\n",
       "      <td>0</td>\n",
       "      <td>1</td>\n",
       "      <td>0</td>\n",
       "      <td>0</td>\n",
       "      <td>1</td>\n",
       "      <td>0</td>\n",
       "    </tr>\n",
       "    <tr>\n",
       "      <th>63991</th>\n",
       "      <td>1</td>\n",
       "      <td>306.10</td>\n",
       "      <td>1</td>\n",
       "      <td>0</td>\n",
       "      <td>1</td>\n",
       "      <td>0</td>\n",
       "      <td>1</td>\n",
       "      <td>0</td>\n",
       "      <td>1</td>\n",
       "      <td>0</td>\n",
       "      <td>0</td>\n",
       "      <td>1</td>\n",
       "      <td>0</td>\n",
       "    </tr>\n",
       "    <tr>\n",
       "      <th>63993</th>\n",
       "      <td>4</td>\n",
       "      <td>374.07</td>\n",
       "      <td>0</td>\n",
       "      <td>1</td>\n",
       "      <td>0</td>\n",
       "      <td>0</td>\n",
       "      <td>1</td>\n",
       "      <td>0</td>\n",
       "      <td>1</td>\n",
       "      <td>0</td>\n",
       "      <td>0</td>\n",
       "      <td>1</td>\n",
       "      <td>0</td>\n",
       "    </tr>\n",
       "    <tr>\n",
       "      <th>63998</th>\n",
       "      <td>1</td>\n",
       "      <td>552.94</td>\n",
       "      <td>1</td>\n",
       "      <td>0</td>\n",
       "      <td>1</td>\n",
       "      <td>0</td>\n",
       "      <td>1</td>\n",
       "      <td>0</td>\n",
       "      <td>1</td>\n",
       "      <td>0</td>\n",
       "      <td>1</td>\n",
       "      <td>0</td>\n",
       "      <td>0</td>\n",
       "    </tr>\n",
       "  </tbody>\n",
       "</table>\n",
       "<p>42693 rows × 13 columns</p>\n",
       "</div>"
      ],
      "text/plain": [
       "       recency  history  used_discount  used_bogo  is_referral  conversion  \\\n",
       "0           10   142.44              1          0            0           0   \n",
       "1            6   329.08              1          1            1           0   \n",
       "2            7   180.65              0          1            1           0   \n",
       "4            2    45.34              1          0            0           0   \n",
       "5            6   134.83              0          1            0           1   \n",
       "...        ...      ...            ...        ...          ...         ...   \n",
       "63989       10   304.30              1          1            0           1   \n",
       "63990        6    80.02              0          1            0           0   \n",
       "63991        1   306.10              1          0            1           0   \n",
       "63993        4   374.07              0          1            0           0   \n",
       "63998        1   552.94              1          0            1           0   \n",
       "\n",
       "       treatment  zip_code_Rural  zip_code_Surburban  zip_code_Urban  \\\n",
       "0              1               0                   1               0   \n",
       "1              0               1                   0               0   \n",
       "2              1               0                   1               0   \n",
       "4              1               0                   0               1   \n",
       "5              1               0                   1               0   \n",
       "...          ...             ...                 ...             ...   \n",
       "63989          1               0                   1               0   \n",
       "63990          0               0                   1               0   \n",
       "63991          1               0                   1               0   \n",
       "63993          1               0                   1               0   \n",
       "63998          1               0                   1               0   \n",
       "\n",
       "       channel_Multichannel  channel_Phone  channel_Web  \n",
       "0                         0              1            0  \n",
       "1                         0              0            1  \n",
       "2                         0              0            1  \n",
       "4                         0              0            1  \n",
       "5                         0              1            0  \n",
       "...                     ...            ...          ...  \n",
       "63989                     0              0            1  \n",
       "63990                     0              1            0  \n",
       "63991                     0              1            0  \n",
       "63993                     0              1            0  \n",
       "63998                     1              0            0  \n",
       "\n",
       "[42693 rows x 13 columns]"
      ]
     },
     "execution_count": 198,
     "metadata": {},
     "output_type": "execute_result"
    }
   ],
   "source": [
    "treatment_encoded"
   ]
  },
  {
   "cell_type": "markdown",
   "id": "373dbec0",
   "metadata": {},
   "source": [
    "## Data Splitting"
   ]
  },
  {
   "cell_type": "markdown",
   "id": "a6fc31f8",
   "metadata": {},
   "source": [
    "The data splitting process is similar to general machine learning workflow"
   ]
  },
  {
   "cell_type": "code",
   "execution_count": 199,
   "id": "d5aa6db9",
   "metadata": {},
   "outputs": [],
   "source": [
    "from sklearn.model_selection import train_test_split"
   ]
  },
  {
   "cell_type": "code",
   "execution_count": 200,
   "id": "6b21901c",
   "metadata": {},
   "outputs": [],
   "source": [
    "T_col = 'treatment'\n",
    "target_col = 'conversion'\n",
    "X_col = ['recency', 'history', 'used_discount', 'used_bogo', 'is_referral',\n",
    "       'zip_code_Rural', 'zip_code_Surburban',\n",
    "       'zip_code_Urban', 'channel_Multichannel', 'channel_Phone',\n",
    "       'channel_Web']"
   ]
  },
  {
   "cell_type": "code",
   "execution_count": 201,
   "id": "70ecd826",
   "metadata": {},
   "outputs": [],
   "source": [
    "X = treatment_encoded.drop(target_col, axis=1)\n",
    "y = treatment_encoded[target_col]"
   ]
  },
  {
   "cell_type": "code",
   "execution_count": 213,
   "id": "234064bc",
   "metadata": {},
   "outputs": [],
   "source": [
    "train_full,test = train_test_split(treatment_encoded,test_size=0.2)\n",
    "train,val = train_test_split(train_full,test_size=0.25)"
   ]
  },
  {
   "cell_type": "code",
   "execution_count": 203,
   "id": "508e6f3b",
   "metadata": {},
   "outputs": [
    {
     "data": {
      "text/plain": [
       "Index(['recency', 'history', 'used_discount', 'used_bogo', 'is_referral',\n",
       "       'conversion', 'treatment', 'zip_code_Rural', 'zip_code_Surburban',\n",
       "       'zip_code_Urban', 'channel_Multichannel', 'channel_Phone',\n",
       "       'channel_Web'],\n",
       "      dtype='object')"
      ]
     },
     "execution_count": 203,
     "metadata": {},
     "output_type": "execute_result"
    }
   ],
   "source": [
    "train.columns"
   ]
  },
  {
   "cell_type": "markdown",
   "id": "5f94cd24",
   "metadata": {},
   "source": [
    "## Exploratory Data Analysis"
   ]
  },
  {
   "cell_type": "code",
   "execution_count": 253,
   "id": "a2ca476b",
   "metadata": {},
   "outputs": [
    {
     "data": {
      "text/plain": [
       "Text(0.5, 1.0, 'history')"
      ]
     },
     "execution_count": 253,
     "metadata": {},
     "output_type": "execute_result"
    },
    {
     "data": {
      "image/png": "[encoded data removed]",
      "text/plain": [
       "<Figure size 640x480 with 1 Axes>"
      ]
     },
     "metadata": {},
     "output_type": "display_data"
    }
   ],
   "source": [
    "# recency \n",
    "plt.hist(train['history'])\n",
    "plt.title('history')"
   ]
  },
  {
   "cell_type": "code",
   "execution_count": 254,
   "id": "ef25c3d5",
   "metadata": {},
   "outputs": [
    {
     "data": {
      "text/plain": [
       "Text(0.5, 1.0, 'Recency')"
      ]
     },
     "execution_count": 254,
     "metadata": {},
     "output_type": "execute_result"
    },
    {
     "data": {
      "image/png": "[encoded data removed]",
      "text/plain": [
       "<Figure size 640x480 with 1 Axes>"
      ]
     },
     "metadata": {},
     "output_type": "display_data"
    }
   ],
   "source": [
    "# recency \n",
    "plt.hist(train['recency'])\n",
    "plt.title('Recency')"
   ]
  },
  {
   "cell_type": "code",
   "execution_count": 258,
   "id": "52d372d9",
   "metadata": {},
   "outputs": [
    {
     "data": {
      "text/plain": [
       "Text(0.5, 1.0, 'Use Discount')"
      ]
     },
     "execution_count": 258,
     "metadata": {},
     "output_type": "execute_result"
    },
    {
     "data": {
      "image/png": "[encoded data removed]",
      "text/plain": [
       "<Figure size 640x480 with 1 Axes>"
      ]
     },
     "metadata": {},
     "output_type": "display_data"
    }
   ],
   "source": [
    "# Discount \n",
    "plt.hist(train['used_discount'])\n",
    "plt.title('Use Discount')"
   ]
  },
  {
   "cell_type": "code",
   "execution_count": 257,
   "id": "c601e93c",
   "metadata": {},
   "outputs": [
    {
     "data": {
      "text/plain": [
       "Text(0.5, 1.0, 'Use Buy One Get One')"
      ]
     },
     "execution_count": 257,
     "metadata": {},
     "output_type": "execute_result"
    },
    {
     "data": {
      "image/png": "[encoded data removed]",
      "text/plain": [
       "<Figure size 640x480 with 1 Axes>"
      ]
     },
     "metadata": {},
     "output_type": "display_data"
    }
   ],
   "source": [
    "plt.hist(train['used_bogo'])\n",
    "plt.title('Use Buy One Get One')"
   ]
  },
  {
   "cell_type": "code",
   "execution_count": 261,
   "id": "3c1b0480",
   "metadata": {},
   "outputs": [
    {
     "data": {
      "text/plain": [
       "Text(0.5, 1.0, 'Use Referral')"
      ]
     },
     "execution_count": 261,
     "metadata": {},
     "output_type": "execute_result"
    },
    {
     "data": {
      "image/png": "[encoded data removed]",
      "text/plain": [
       "<Figure size 640x480 with 1 Axes>"
      ]
     },
     "metadata": {},
     "output_type": "display_data"
    }
   ],
   "source": [
    "plt.hist(train['is_referral'])\n",
    "plt.title('Use Referral')"
   ]
  },
  {
   "cell_type": "code",
   "execution_count": 262,
   "id": "5a2f6292",
   "metadata": {},
   "outputs": [
    {
     "data": {
      "text/plain": [
       "Text(0.5, 1.0, 'Treatment (Buy One Get One)')"
      ]
     },
     "execution_count": 262,
     "metadata": {},
     "output_type": "execute_result"
    },
    {
     "data": {
      "image/png": "[encoded data removed]",
      "text/plain": [
       "<Figure size 640x480 with 1 Axes>"
      ]
     },
     "metadata": {},
     "output_type": "display_data"
    }
   ],
   "source": [
    "plt.hist(train['treatment'])\n",
    "plt.title('Treatment (Buy One Get One)')"
   ]
  },
  {
   "cell_type": "code",
   "execution_count": 264,
   "id": "a9f01f2b",
   "metadata": {},
   "outputs": [
    {
     "data": {
      "text/plain": [
       "Text(0.5, 1.0, 'channel_Multichannel')"
      ]
     },
     "execution_count": 264,
     "metadata": {},
     "output_type": "execute_result"
    },
    {
     "data": {
      "image/png": "[encoded data removed]",
      "text/plain": [
       "<Figure size 640x480 with 1 Axes>"
      ]
     },
     "metadata": {},
     "output_type": "display_data"
    }
   ],
   "source": [
    "plt.hist(train['channel_Multichannel'])\n",
    "plt.title('channel_Multichannel')"
   ]
  },
  {
   "cell_type": "code",
   "execution_count": 265,
   "id": "4e768a15",
   "metadata": {},
   "outputs": [
    {
     "data": {
      "text/plain": [
       "Text(0.5, 1.0, 'channel_Phone')"
      ]
     },
     "execution_count": 265,
     "metadata": {},
     "output_type": "execute_result"
    },
    {
     "data": {
      "image/png": "[encoded data removed]",
      "text/plain": [
       "<Figure size 640x480 with 1 Axes>"
      ]
     },
     "metadata": {},
     "output_type": "display_data"
    }
   ],
   "source": [
    "plt.hist(train['channel_Phone'])\n",
    "plt.title('channel_Phone')"
   ]
  },
  {
   "cell_type": "code",
   "execution_count": 266,
   "id": "428254c0",
   "metadata": {},
   "outputs": [
    {
     "data": {
      "text/plain": [
       "Text(0.5, 1.0, 'channel_Web')"
      ]
     },
     "execution_count": 266,
     "metadata": {},
     "output_type": "execute_result"
    },
    {
     "data": {
      "image/png": "[encoded data removed]",
      "text/plain": [
       "<Figure size 640x480 with 1 Axes>"
      ]
     },
     "metadata": {},
     "output_type": "display_data"
    }
   ],
   "source": [
    "plt.hist(train['channel_Web'])\n",
    "plt.title('channel_Web')"
   ]
  },
  {
   "cell_type": "code",
   "execution_count": 269,
   "id": "9bffad12",
   "metadata": {},
   "outputs": [
    {
     "data": {
      "text/plain": [
       "Index(['recency', 'history', 'used_discount', 'used_bogo', 'is_referral',\n",
       "       'conversion', 'treatment', 'zip_code_Rural', 'zip_code_Surburban',\n",
       "       'zip_code_Urban', 'channel_Multichannel', 'channel_Phone',\n",
       "       'channel_Web'],\n",
       "      dtype='object')"
      ]
     },
     "execution_count": 269,
     "metadata": {},
     "output_type": "execute_result"
    }
   ],
   "source": [
    "train.columns"
   ]
  },
  {
   "cell_type": "code",
   "execution_count": 270,
   "id": "681a52a7",
   "metadata": {},
   "outputs": [
    {
     "data": {
      "text/plain": [
       "Text(0.5, 1.0, 'zip_code_Urban')"
      ]
     },
     "execution_count": 270,
     "metadata": {},
     "output_type": "execute_result"
    },
    {
     "data": {
      "image/png": "[encoded data removed]",
      "text/plain": [
       "<Figure size 640x480 with 1 Axes>"
      ]
     },
     "metadata": {},
     "output_type": "display_data"
    }
   ],
   "source": [
    "\n",
    "plt.hist(train['zip_code_Urban'])\n",
    "plt.title('zip_code_Urban')"
   ]
  },
  {
   "cell_type": "code",
   "execution_count": 271,
   "id": "14fcb01f",
   "metadata": {},
   "outputs": [
    {
     "data": {
      "text/plain": [
       "Text(0.5, 1.0, 'zip_code_Surburban')"
      ]
     },
     "execution_count": 271,
     "metadata": {},
     "output_type": "execute_result"
    },
    {
     "data": {
      "image/png": "[encoded data removed]",
      "text/plain": [
       "<Figure size 640x480 with 1 Axes>"
      ]
     },
     "metadata": {},
     "output_type": "display_data"
    }
   ],
   "source": [
    "\n",
    "plt.hist(train['zip_code_Surburban'])\n",
    "plt.title('zip_code_Surburban')"
   ]
  },
  {
   "cell_type": "code",
   "execution_count": 272,
   "id": "c9c12a4a",
   "metadata": {},
   "outputs": [
    {
     "data": {
      "text/plain": [
       "Text(0.5, 1.0, 'zip_code_Rural')"
      ]
     },
     "execution_count": 272,
     "metadata": {},
     "output_type": "execute_result"
    },
    {
     "data": {
      "image/png": "[encoded data removed]",
      "text/plain": [
       "<Figure size 640x480 with 1 Axes>"
      ]
     },
     "metadata": {},
     "output_type": "display_data"
    }
   ],
   "source": [
    "\n",
    "plt.hist(train['zip_code_Rural'])\n",
    "plt.title('zip_code_Rural')"
   ]
  },
  {
   "cell_type": "markdown",
   "id": "8d04b2e9",
   "metadata": {},
   "source": [
    "## 2. Modelling"
   ]
  },
  {
   "cell_type": "markdown",
   "id": "8cd65301",
   "metadata": {},
   "source": [
    "Approaches : \n",
    "1. S-Learner \n",
    "2. T-Learner"
   ]
  },
  {
   "cell_type": "code",
   "execution_count": 185,
   "id": "ed4d6765",
   "metadata": {},
   "outputs": [],
   "source": [
    "from sklift.metrics import uplift_at_k,uplift_auc_score,uplift_by_percentile,qini_auc_score\n",
    "from sklift.viz import plot_uplift_curve"
   ]
  },
  {
   "cell_type": "markdown",
   "id": "563307a4",
   "metadata": {},
   "source": [
    "### Single Model Approach (S-Learner)"
   ]
  },
  {
   "cell_type": "markdown",
   "id": "5a3a118d",
   "metadata": {},
   "source": [
    "<img src=\"https://matheusfacure.github.io/python-causality-handbook/_images/s-learner.png\" >\n",
    "<center><a href=\"https://matheusfacure.github.io/python-causality-handbook/_images/s-learner.png\">Source : Causal Inference for the Brave and True</a></center>"
   ]
  },
  {
   "cell_type": "markdown",
   "id": "96a48531",
   "metadata": {},
   "source": [
    "\n",
    "The S-Learner model is a technique in uplift modeling used to understand the impact of a treatment, like a marketing campaign, on individuals' behavior. It works by building a predictive model that considers whether each person received the treatment or not and then estimates how this treatment affected their response. By comparing the predicted outcomes of those who received the treatment to those who didn't, it calculates an uplift score, showing the incremental effect of the treatment"
   ]
  },
  {
   "cell_type": "markdown",
   "id": "9116eac3",
   "metadata": {},
   "source": [
    "The S- Learner model is actually general machine learning model such as LogisticRegression, SVM, Linear Regression and etc. however the model purpose now is to predict the response / outcome variable with or without treatment to calculate uplift score we just measure the difference between prediction if treatment variable ==1 / yes and no =0 "
   ]
  },
  {
   "cell_type": "markdown",
   "id": "f0c1d9fd",
   "metadata": {},
   "source": [
    "**Training Process** : \n",
    "1. Train Model like general machine learning --> can be framed as regression or classification \n",
    "- if our outcomes is --> binary --> classification \n",
    "-if our outcomes is --> continuous --> regression \n",
    "\n",
    "**Prediction Process** : \n",
    "To Measure **Conditional Average Treatment Effect** we simply \n",
    "1. Predict using the model on test data given if treatment == 0 (No Treatment)\n",
    "2. Predict using the model on test data given if treatment == 1 (Treatment)\n",
    "3. Compare the differences "
   ]
  },
  {
   "cell_type": "code",
   "execution_count": 233,
   "id": "1e74f395",
   "metadata": {},
   "outputs": [],
   "source": [
    "# create dataframe to add score \n",
    "model_comparison = pd.DataFrame()\n",
    "model_name = []\n",
    "auc_uplift = []"
   ]
  },
  {
   "cell_type": "code",
   "execution_count": 234,
   "id": "e5815449",
   "metadata": {},
   "outputs": [
    {
     "name": "stderr",
     "output_type": "stream",
     "text": [
      "2023-09-10 21:59:17,315 [18308] WARNING  py.warnings:109: [JupyterRequire] c:\\users\\fakhri robi aulia\\appdata\\local\\programs\\python\\python38\\lib\\site-packages\\xgboost\\sklearn.py:1224: UserWarning: The use of label encoder in XGBClassifier is deprecated and will be removed in a future release. To remove this warning, do the following: 1) Pass option use_label_encoder=False when constructing XGBClassifier object; and 2) Encode your labels (y) as integers starting with 0, i.e. 0, 1, 2, ..., [num_class - 1].\n",
      "  warnings.warn(label_encoder_deprecation_msg, UserWarning)\n",
      "\n"
     ]
    },
    {
     "name": "stdout",
     "output_type": "stream",
     "text": [
      "[21:59:17] WARNING: C:/Users/Administrator/workspace/xgboost-win64_release_1.5.0/src/learner.cc:1115: Starting in XGBoost 1.3.0, the default evaluation metric used with the objective 'binary:logistic' was changed from 'error' to 'logloss'. Explicitly set eval_metric if you'd like to restore the old behavior.\n"
     ]
    }
   ],
   "source": [
    "from sklift.models import SoloModel\n",
    "\n",
    "\n",
    "slearner = SoloModel(\n",
    "    estimator=xgb.XGBClassifier(),\n",
    "    method='treatment_interaction'\n",
    ")\n",
    "slearner = slearner.fit(\n",
    "    train[X_col], train[target_col], train[T_col],\n",
    "\n",
    ")\n",
    "\n",
    "uplift_slearner = slearner.predict(val[X_col])\n",
    "\n",
    "slearner_uplift = uplift_auc_score(y_true=val[target_col], uplift=uplift_slearner, treatment=val[T_col])\n",
    "\n",
    "model_name.append('slearner')\n",
    "auc_uplift.append(slearner_uplift)\n"
   ]
  },
  {
   "cell_type": "markdown",
   "id": "13392dd9",
   "metadata": {},
   "source": [
    "### Two Models Approach"
   ]
  },
  {
   "cell_type": "markdown",
   "id": "3a378079",
   "metadata": {},
   "source": [
    "<img src=\"https://matheusfacure.github.io/python-causality-handbook/_images/t-learner.png\" >\n",
    "<center><a href=\"https://matheusfacure.github.io/python-causality-handbook/_images/t-learner.png\">Source : Causal Inference for the Brave and True</a></center>"
   ]
  },
  {
   "cell_type": "markdown",
   "id": "9fcf66da",
   "metadata": {},
   "source": [
    "The T-Learner model in uplift modeling involves a two-step approach. First, it builds a model (Model T) to predict who receives a treatment based on individuals' characteristics. Second, it builds another model (Model Y) to predict individual outcomes, considering the treatment. By comparing these predictions, it calculates an uplift score, which shows the incremental effect of the treatment on each person"
   ]
  },
  {
   "cell_type": "markdown",
   "id": "9ee099ab",
   "metadata": {},
   "source": [
    "**Training Process** : \n",
    "During training process we trained 2 models, one for treatment=yes, and the other is for training = no \n",
    "\n",
    "\n",
    "**Prediction Process** : \n",
    "To Measure **Conditional Average Treatment Effect** we simply \n",
    "1. Predict using 1st model \n",
    "2. Predict using 2nd model \n",
    "3. Uplift = predicted_values 1st model - predicted_values 2nd model"
   ]
  },
  {
   "cell_type": "code",
   "execution_count": 235,
   "id": "83a2507c",
   "metadata": {},
   "outputs": [],
   "source": [
    "from sklift.models import TwoModels\n",
    "\n",
    "\n",
    "\n",
    "\n",
    "t_learner = TwoModels(\n",
    "    estimator_trmnt=xgb.XGBClassifier(eval_metric=\"auc\"), \n",
    "    estimator_ctrl=xgb.XGBClassifier(eval_metric=\"auc\"), \n",
    "    method='vanilla'\n",
    ")\n",
    "t_learner = tm.fit(\n",
    "    train[X_col], train[target_col], train[T_col],\n",
    "\n",
    ")\n",
    "\n",
    "uplift_tm = t_learner.predict(val[X_col])\n",
    "\n",
    "t_learner_uplift = uplift_auc_score(y_true=val[target_col], uplift=uplift_tm, treatment=val[T_col])\n",
    "\n",
    "model_name.append('tlearner')\n",
    "auc_uplift.append(t_learner_uplift)"
   ]
  },
  {
   "cell_type": "markdown",
   "id": "dc1f393c",
   "metadata": {},
   "source": [
    "### Modelling Summary"
   ]
  },
  {
   "cell_type": "code",
   "execution_count": 236,
   "id": "2a005f80",
   "metadata": {},
   "outputs": [],
   "source": [
    "model_comparison['model_name'] = model_name \n",
    "model_comparison['auc_uplift'] = auc_uplift"
   ]
  },
  {
   "cell_type": "code",
   "execution_count": 237,
   "id": "fc748c9f",
   "metadata": {},
   "outputs": [
    {
     "data": {
      "text/html": [
       "<div>\n",
       "<style scoped>\n",
       "    .dataframe tbody tr th:only-of-type {\n",
       "        vertical-align: middle;\n",
       "    }\n",
       "\n",
       "    .dataframe tbody tr th {\n",
       "        vertical-align: top;\n",
       "    }\n",
       "\n",
       "    .dataframe thead th {\n",
       "        text-align: right;\n",
       "    }\n",
       "</style>\n",
       "<table border=\"1\" class=\"dataframe\">\n",
       "  <thead>\n",
       "    <tr style=\"text-align: right;\">\n",
       "      <th></th>\n",
       "      <th>model_name</th>\n",
       "      <th>auc_uplift</th>\n",
       "    </tr>\n",
       "  </thead>\n",
       "  <tbody>\n",
       "    <tr>\n",
       "      <th>0</th>\n",
       "      <td>slearner</td>\n",
       "      <td>0.040043</td>\n",
       "    </tr>\n",
       "    <tr>\n",
       "      <th>1</th>\n",
       "      <td>tlearner</td>\n",
       "      <td>0.030525</td>\n",
       "    </tr>\n",
       "  </tbody>\n",
       "</table>\n",
       "</div>"
      ],
      "text/plain": [
       "  model_name  auc_uplift\n",
       "0   slearner    0.040043\n",
       "1   tlearner    0.030525"
      ]
     },
     "execution_count": 237,
     "metadata": {},
     "output_type": "execute_result"
    }
   ],
   "source": [
    "model_comparison"
   ]
  },
  {
   "cell_type": "markdown",
   "id": "bc53b593",
   "metadata": {},
   "source": [
    "We can see that S-Learner model perform better even with more simple model "
   ]
  },
  {
   "cell_type": "markdown",
   "id": "4ee49825",
   "metadata": {},
   "source": [
    "### Evaluating Uplift Model\n",
    "\n",
    "We are going to evaluate on test data"
   ]
  },
  {
   "cell_type": "code",
   "execution_count": 240,
   "id": "337189d5",
   "metadata": {},
   "outputs": [],
   "source": [
    "uplift_slearner_test = slearner.predict(test[X_col])\n",
    "\n",
    "slearner_test_uplift = uplift_auc_score(y_true=test[target_col], uplift=uplift_slearner_test, treatment=test[T_col])"
   ]
  },
  {
   "cell_type": "code",
   "execution_count": 241,
   "id": "2f8df9f1",
   "metadata": {},
   "outputs": [
    {
     "data": {
      "text/plain": [
       "0.01040496699225714"
      ]
     },
     "execution_count": 241,
     "metadata": {},
     "output_type": "execute_result"
    }
   ],
   "source": [
    "slearner_test_uplift"
   ]
  },
  {
   "cell_type": "code",
   "execution_count": 242,
   "id": "34e3fe35",
   "metadata": {},
   "outputs": [
    {
     "data": {
      "text/html": [
       "<div>\n",
       "<style scoped>\n",
       "    .dataframe tbody tr th:only-of-type {\n",
       "        vertical-align: middle;\n",
       "    }\n",
       "\n",
       "    .dataframe tbody tr th {\n",
       "        vertical-align: top;\n",
       "    }\n",
       "\n",
       "    .dataframe thead th {\n",
       "        text-align: right;\n",
       "    }\n",
       "</style>\n",
       "<table border=\"1\" class=\"dataframe\">\n",
       "  <thead>\n",
       "    <tr style=\"text-align: right;\">\n",
       "      <th></th>\n",
       "      <th>phase</th>\n",
       "      <th>uplift_auc</th>\n",
       "    </tr>\n",
       "  </thead>\n",
       "  <tbody>\n",
       "    <tr>\n",
       "      <th>0</th>\n",
       "      <td>validation_set</td>\n",
       "      <td>0.040043</td>\n",
       "    </tr>\n",
       "    <tr>\n",
       "      <th>1</th>\n",
       "      <td>test_set</td>\n",
       "      <td>0.010405</td>\n",
       "    </tr>\n",
       "  </tbody>\n",
       "</table>\n",
       "</div>"
      ],
      "text/plain": [
       "            phase  uplift_auc\n",
       "0  validation_set    0.040043\n",
       "1        test_set    0.010405"
      ]
     },
     "execution_count": 242,
     "metadata": {},
     "output_type": "execute_result"
    }
   ],
   "source": [
    "pd.DataFrame({\n",
    "    'phase' : ['validation_set','test_set'],\n",
    "    'uplift_auc' :[slearner_uplift,slearner_test_uplift]\n",
    "})"
   ]
  },
  {
   "cell_type": "markdown",
   "id": "d904f0c0",
   "metadata": {},
   "source": [
    "#### Uplift Curve"
   ]
  },
  {
   "cell_type": "code",
   "execution_count": null,
   "id": "2eb06c90",
   "metadata": {},
   "outputs": [],
   "source": [
    "import matplotlib.pyplot as plt"
   ]
  },
  {
   "cell_type": "code",
   "execution_count": 244,
   "id": "4ce8758c",
   "metadata": {},
   "outputs": [
    {
     "data": {
      "text/plain": [
       "Text(0, 0.5, 'Number of observations in test set')"
      ]
     },
     "execution_count": 244,
     "metadata": {},
     "output_type": "execute_result"
    },
    {
     "data": {
      "image/png": "[encoded data removed]",
      "text/plain": [
       "<Figure size 640x480 with 1 Axes>"
      ]
     },
     "metadata": {},
     "output_type": "display_data"
    }
   ],
   "source": [
    "\n",
    "plt.hist(uplift_slearner_test,bins=50)\n",
    "plt.xlabel('Uplift score')\n",
    "plt.ylabel('Number of observations in test set')"
   ]
  },
  {
   "cell_type": "code",
   "execution_count": 245,
   "id": "3f2f7841",
   "metadata": {},
   "outputs": [
    {
     "data": {
      "text/plain": [
       "Text(0, 0.5, 'Number of observations in val set')"
      ]
     },
     "execution_count": 245,
     "metadata": {},
     "output_type": "execute_result"
    },
    {
     "data": {
      "image/png": "[encoded data removed]",
      "text/plain": [
       "<Figure size 640x480 with 1 Axes>"
      ]
     },
     "metadata": {},
     "output_type": "display_data"
    }
   ],
   "source": [
    "\n",
    "plt.hist(uplift_slearner,bins=50)\n",
    "plt.xlabel('Uplift score')\n",
    "plt.ylabel('Number of observations in val set')"
   ]
  },
  {
   "cell_type": "code",
   "execution_count": 247,
   "id": "c72caf05",
   "metadata": {},
   "outputs": [],
   "source": [
    "from sklift.viz import plot_uplift_curve"
   ]
  },
  {
   "cell_type": "code",
   "execution_count": 248,
   "id": "3ceb61f7",
   "metadata": {},
   "outputs": [
    {
     "data": {
      "image/png": "[encoded data removed]",
      "text/plain": [
       "<Figure size 640x480 with 1 Axes>"
      ]
     },
     "metadata": {},
     "output_type": "display_data"
    }
   ],
   "source": [
    "uplift_disp = plot_uplift_curve(\n",
    "    test[target_col], uplift_slearner_test, test[T_col],\n",
    "    perfect=True, name='Model name'\n",
    ");"
   ]
  },
  {
   "cell_type": "markdown",
   "id": "c72c2ab8",
   "metadata": {},
   "source": [
    "We can see that our uplift score mostly concentrated at 0, meaning that our intervention / treatment does not change conversion much"
   ]
  },
  {
   "cell_type": "markdown",
   "id": "32825d81",
   "metadata": {},
   "source": [
    "#### Policy "
   ]
  },
  {
   "cell_type": "markdown",
   "id": "534cb537",
   "metadata": {},
   "source": [
    "After looking at the uplift result looks like close to random approach, modelling result may not always be better than baseline, so at the time if we decide to choose random approach "
   ]
  },
  {
   "cell_type": "markdown",
   "id": "7a5dcf95",
   "metadata": {},
   "source": [
    "## Key Take Aways"
   ]
  },
  {
   "cell_type": "markdown",
   "id": "7c090ce0",
   "metadata": {},
   "source": [
    "## References\n",
    "\n",
    "- Uplift Modeling for Multiple Treatments with Cost\n",
    "Optimization, Zhenyu Zao and Totte Harinen (Uber)\n",
    "- https://www.slideshare.net/PierreGutierrez2/introduction-to-uplift-modelling?from_search=0\n",
    "- https://www.slideshare.net/PierreGutierrez2/beyond-churn-prediction-an-introduction-to-uplift-modeling?from_search=2\n"
   ]
  },
  {
   "cell_type": "code",
   "execution_count": null,
   "id": "80517f57",
   "metadata": {},
   "outputs": [],
   "source": []
  }
 ],
 "metadata": {
  "kernelspec": {
   "display_name": "Python 3 (ipykernel)",
   "language": "python",
   "name": "python3"
  },
  "language_info": {
   "codemirror_mode": {
    "name": "ipython",
    "version": 3
   },
   "file_extension": ".py",
   "mimetype": "text/x-python",
   "name": "python",
   "nbconvert_exporter": "python",
   "pygments_lexer": "ipython3",
   "version": "3.8.5"
  },
  "latex_envs": {
   "LaTeX_envs_menu_present": true,
   "autoclose": true,
   "autocomplete": true,
   "bibliofile": "biblio.bib",
   "cite_by": "apalike",
   "current_citInitial": 1,
   "eqLabelWithNumbers": true,
   "eqNumInitial": 1,
   "hotkeys": {
    "equation": "Ctrl-E",
    "itemize": "Ctrl-I"
   },
   "labels_anchors": false,
   "latex_user_defs": false,
   "report_style_numbering": true,
   "user_envs_cfg": true
  },
  "toc": {
   "base_numbering": 1,
   "nav_menu": {},
   "number_sections": true,
   "sideBar": true,
   "skip_h1_title": false,
   "title_cell": "Table of Contents",
   "title_sidebar": "Contents",
   "toc_cell": false,
   "toc_position": {},
   "toc_section_display": true,
   "toc_window_display": false
  }
 },
 "nbformat": 4,
 "nbformat_minor": 5
}
